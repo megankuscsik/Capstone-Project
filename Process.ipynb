{
 "cells": [
  {
   "cell_type": "markdown",
   "metadata": {},
   "source": [
    "Process:\n",
    "https://towardsdatascience.com/simple-stock-price-prediction-with-ml-in-python-learners-guide-to-ml-76896910e2ba\n",
    "1. Clean Data\n",
    "- need to make sure all values are in the same \n"
   ]
  },
  {
   "cell_type": "markdown",
   "metadata": {},
   "source": [
    "https://ba-lab.fairfield.edu/user/mkuscsik/lab/tree/BA545_Data/Project%202/project2-mem/FINAL_REPORT/1_Data_Report.ipynb"
   ]
  },
  {
   "cell_type": "code",
   "execution_count": 1,
   "metadata": {},
   "outputs": [
    {
     "ename": "ModuleNotFoundError",
     "evalue": "No module named 'TFANN'",
     "output_type": "error",
     "traceback": [
      "\u001b[0;31m---------------------------------------------------------------------------\u001b[0m",
      "\u001b[0;31mModuleNotFoundError\u001b[0m                       Traceback (most recent call last)",
      "\u001b[0;32m<ipython-input-1-1c88dc0a06e1>\u001b[0m in \u001b[0;36m<module>\u001b[0;34m\u001b[0m\n\u001b[1;32m      2\u001b[0m \u001b[0;32mimport\u001b[0m \u001b[0mmatplotlib\u001b[0m\u001b[0;34m.\u001b[0m\u001b[0mpyplot\u001b[0m \u001b[0;32mas\u001b[0m \u001b[0mmpl\u001b[0m\u001b[0;34m\u001b[0m\u001b[0;34m\u001b[0m\u001b[0m\n\u001b[1;32m      3\u001b[0m \u001b[0;32mfrom\u001b[0m \u001b[0msklearn\u001b[0m\u001b[0;34m.\u001b[0m\u001b[0mpreprocessing\u001b[0m \u001b[0;32mimport\u001b[0m \u001b[0mscale\u001b[0m\u001b[0;34m\u001b[0m\u001b[0;34m\u001b[0m\u001b[0m\n\u001b[0;32m----> 4\u001b[0;31m \u001b[0;32mfrom\u001b[0m \u001b[0mTFANN\u001b[0m \u001b[0;32mimport\u001b[0m \u001b[0mANNR\u001b[0m\u001b[0;34m\u001b[0m\u001b[0;34m\u001b[0m\u001b[0m\n\u001b[0m\u001b[1;32m      5\u001b[0m \u001b[0;32mfrom\u001b[0m \u001b[0mgoogle\u001b[0m\u001b[0;34m.\u001b[0m\u001b[0mcolab\u001b[0m \u001b[0;32mimport\u001b[0m \u001b[0mfiles\u001b[0m\u001b[0;34m\u001b[0m\u001b[0;34m\u001b[0m\u001b[0m\n",
      "\u001b[0;31mModuleNotFoundError\u001b[0m: No module named 'TFANN'"
     ]
    }
   ],
   "source": [
    "import numpy as np\n",
    "import matplotlib.pyplot as mpl\n",
    "from sklearn.preprocessing import scale\n",
    "from TFANN import ANNR\n",
    "from google.colab import files"
   ]
  },
  {
   "cell_type": "markdown",
   "metadata": {},
   "source": [
    "## Notes from Tao\n",
    "- take about 15 brands(multiple features for brands---climate, GDP growth, highs, lows)--- and compare them to climate data\n",
    "- from the five features given on yahoo finance, you van caluate other featuers(read up on this)\n",
    "- tell an itneresting story--this matters more then the code you can do \n",
    "- use python to clean data, do calculations, create new features\n",
    "- use tableau and excel to make models--this is what you will use to tell a story \n",
    "- what can you learn from this? can a prective model give you better?--do not actually build predictive model---future learnings---if you wanted to build a model, here is what features you could consider\n",
    "\n",
    "## Plan:\n",
    "**Modivation for Project: \n",
    "- gloabl warming is currently occuring\n",
    "- i work for MK Consumers---they own 7 popular food brands and are looking to aquire another large food entity to further expand their market. \n",
    "- which one?!?!??! we want one that is good with climate change and will weather this storm. \n",
    "- look at standard deviation between high and low per month or per quarter\n",
    "- https://towardsdatascience.com/in-12-minutes-stocks-analysis-with-pandas-and-scikit-learn-a8d8a7b50ee7\n",
    "\n",
    "-climate data: temperature and rainfall--create own datas set and add additonal columns(monthly average)\n",
    "- MK Consumer's data analysis team went through information on the national NOAA website to determine monthly average conditions\n",
    "- \n",
    "https://www.ncdc.noaa.gov/sotc/global/201901#month-temp\n",
    "1. Temperature: score of 1-7 (coldest to hottest)\n",
    "2. Rainfall: score 1-7 (driest to wettest)\n",
    "\n",
    "**Questions to be answered from data:\n",
    "1. \n",
    "2.\n",
    "3.\n",
    "\n",
    "- select about 15 companies and collect data from Yahoo Finance(ten years-- 3/3/10 to 3/3/20)\n",
    "- find rainfall and temperature data from same time frame to compare these results to\n",
    "\n",
    "\n",
    "- clean data in Python\n",
    "- calculate new features from the five given from Yahoo  (find articles on how/ why to do this)\n",
    "\n",
    "- create Data Dictionary\n",
    "- Figure out what features to compare/ why they are important\n",
    "- Create basic graphs in Python\n",
    "- Create more advanced models in Tableau/ Excel---Tableau preffered\n",
    "- Tell story from graphs\n"
   ]
  },
  {
   "cell_type": "code",
   "execution_count": null,
   "metadata": {},
   "outputs": [],
   "source": []
  }
 ],
 "metadata": {
  "kernelspec": {
   "display_name": "Python 3",
   "language": "python",
   "name": "python3"
  },
  "language_info": {
   "codemirror_mode": {
    "name": "ipython",
    "version": 3
   },
   "file_extension": ".py",
   "mimetype": "text/x-python",
   "name": "python",
   "nbconvert_exporter": "python",
   "pygments_lexer": "ipython3",
   "version": "3.6.7"
  }
 },
 "nbformat": 4,
 "nbformat_minor": 4
}
