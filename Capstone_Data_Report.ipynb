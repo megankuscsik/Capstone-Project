{
 "cells": [
  {
   "cell_type": "markdown",
   "metadata": {},
   "source": [
    "# Evaluating Whether There is Support to Claim that Climate Change Impacts Food Company Stock \n",
    "**BUAN 6590: Capstone Project Final Report <br/>\n",
    "Dolan School of Business <br/>\n",
    "Fairfield University <br/>\n",
    "Megan Kuscsik**"
   ]
  },
  {
   "cell_type": "markdown",
   "metadata": {},
   "source": [
    "## Table of Contents"
   ]
  },
  {
   "cell_type": "markdown",
   "metadata": {},
   "source": [
    "## General Background <br/>\n",
    "Earth’s climate is always evolving and changing; however, scientists have noticed unusual patterns in the last 150 years. Since the late 19th century, the earth’s surface temperature has on average risen about 1.62 degrees F. There is also evidence that annual rainfall patterns have altered, along with the seasonal distribution of large rainfall events. <br/>\n",
    "\n",
    "The effects of climate change have a direct impact on the growing seasons for important commodities we depend on for our food supply (“Climate Change and Agriculture”). The most common commodities that are used to produce many of our favorite foods are wheat, corn, and sugar cane. <br/>\n",
    "\n",
    "Over the past several years, researchers have taken a deeper dive into investigating the connection between climate change and the stock market by breaking it down into different components. Instead of looking at stock price as the sole indicator of impact, researchers have begun to look at stock return value and volatility. <br/>"
   ]
  },
  {
   "cell_type": "markdown",
   "metadata": {},
   "source": [
    "## Project Outline\n",
    "\n",
    "The steps to tackle this project were broken down in order to follow applicable CRISP-dm stages. These stages will ultimately lead us to answer five investigative questions:\n",
    "The following questions will be answered in this investigation: \n",
    "1. What relationship (if any) exists between climate factors and commodity stocks? \n",
    "2. What relationship (if any) exists between climate factors and company stocks? \n",
    "3. What relationship (if any) exists between commodity stocks and company stocks? \n",
    "4. Does volatility present in the data exhibit a relationship with Temp_Anamoly?\n",
    "5. What changes have companies made to their product lines to address increased costs? \n",
    "\n",
    "\n",
    "**Business Understanding** <br/>\n",
    "There is a great amount of scientific evidence and support that climate change has impacted the growing seasons of important food commodities and in turn the cost of these commodities. Many companies who depend on these commodities for their product lines are aware of this impact, but don't necessarily understand how it may impact their bottom line.  <br/>\n",
    "\n",
    "I am representing a small food company, **Comfort Foods**, who deals directly with farmers to create their products. They have noticed in recent years that farmers charge more for products when the growing season is poor. The committee of investors for Comfort Foods is concerned that climate change is influencing growing seasons and will eventually impact company performance. <br/>\n",
    "\n",
    "The **purpose of this project** is to determine if a case can be made to support that climate change in some way impacts the stock market for food companies, either directly or indirectly. This investigation will focus on learning objectives from BA 505: Python and BA540: Business Intelligence. The results of this analysis will determine if the Comfort Foods needs to take measures to prepare for future commodity shortages and price increases.  \n",
    " \n",
    "\n",
    "\n",
    "**Data Understanding** <br/>\n",
    "In order to accurately answer the above investigative questions, several methods of evaluation and calculated variables will be investigated: \n",
    "- Correlation Models \n",
    "- Profit\n",
    "- Return \n",
    "- Cumulative Return \n",
    "- Covariance\n",
    "- Granger Causality \n",
    "- Standard Deviation\n",
    "- Bollinger Bands\n",
    "- Maximum Drawdown\n",
    "- Visual Graphics \n",
    "\n",
    "This project will be completed in Jupyter Notebooks using Python Language and Tableau as a graphic modeling tool. \n",
    "\n",
    "**Data Preparation** <br/>\n",
    "My dataset was compiled from climate data, from the [National Centers for Environmental Information (NOAA)](https://www.ncdc.noaa.gov/cag/national/time-series/110/pcp/all/3/2010-2019?base_prd=true&begbaseyear=1901&endbaseyear=2000) and [NASA](https://data.giss.nasa.gov/gistemp/), and stock data, from Yahoo Finance. After the dataset is compiled from my three separate sources, the data will be cleaned as necessary. Any missing values will be dealt with as deemed fit for each scenario. As features are added through calculation, missing values will also be replaced. \n",
    "\n",
    "**Modeling** <br/>\n",
    "The statistics and seaborn modeling Python packages will be beneficial to the completion of this project. While most graphic models will be produced in Tableau, seaborn will help create any supplemental graphics. \n",
    "\n",
    "**Evaluation and Communication of Results** <br/>\n",
    "The evaluation of findings will be relative to the initial analytical questions. Findings will be presented to Dr. Lin Lu, Nicole Whitney, and panel of advisors. \n",
    " \n"
   ]
  },
  {
   "cell_type": "markdown",
   "metadata": {},
   "source": [
    "## Data Dictionary\n",
    "\n",
    "| Column Name  | Description |\n",
    "| ------------- | ------------- |\n",
    "| **Date** | Date (mm/dd/yyyy) of data collection |\n",
    "| **Month** | Month of data collection | \n",
    "| **Temp_Anamoly** | Temperature Anomalies: difference from the mean temperature of that time period | \n",
    "| **Avg_Temp_F** | Average daily temperature in (degrees F) | \n",
    "| **Avg_Precip_In** | Average daily precipitation (inches) | \n",
    "| **CORN_Open** | Price of CORN stock at the beginning of the trading day | \n",
    "| **CORN_High** | Highest price of CORN stock on respective trading day | \n",
    "| **CORN_Low** | Lowest price of CORN stock on respective trading day | \n",
    "| **CORN_Close** | Price of CORN stock at closing time | \n",
    "| **CORN_Volume** | Number of CORN stocks traded on respective day| \n",
    "| **WEAT_Open** | Price of WEAT stock at the beginning of the trading day | \n",
    "| **WEAT_High** | Highest price of WEAT stock on respective trading day | \n",
    "| **WEAT_Low** | Lowest price of WEAT stock on respective trading day | \n",
    "| **WEAT_Close** | Price of WEAT stock at closing time | \n",
    "| **WEAT_Volume** | Number of WEAT stocks traded on respective day | \n",
    "| **CANE_Open** | Price of CANE stock at the beginning of the trading day | \n",
    "| **CANE_High** | Highest price of CANE stock on respective trading day | \n",
    "| **CANE_Low** | Lowest price of CANE stock on respective trading day | \n",
    "| **CANE_Close** | Price of CANE stock at closing time | \n",
    "| **CANE_Volume** | Number of CANE stocks traded on respective day | \n",
    "| **HSY_Open** | Price of The Hershey Company stock at the beginning of the trading day | \n",
    "| **HSY_High** | Highest price of The Hershey Company stock on respective trading day | \n",
    "| **HSY_Low** | Lowest price of The Hershey Company stock on respective trading day | \n",
    "| **HSY_Close** | Price of The Hershey Company stock at closing time | \n",
    "| **HSY_Volume** | Number of The Hershey Company stocks traded on respective day | \n",
    "| **SJM_Open** | Price of The J.M. Smucker Company stock at the beginning of the trading day | \n",
    "| **SJM_High** | Highest price of The J.M. Smucker Company stock on respective trading day | \n",
    "| **SJM_Low** | Lowest price of The J.M. Smucker Company stock on respective trading day | \n",
    "| **SJM_Close** | Price of The J.M. Smucker Company stock at closing time | \n",
    "| **SJM_Volume** | Number of The J.M. Smucker Company stocks traded on respective day | \n",
    "| **GIS_Open** | Price of General Mills stock at the beginning of the trading day | \n",
    "| **GIS_High** | Highest price of General Mills stock on respective trading day | \n",
    "| **GIS_Low** | Lowest price of General Mills stock on respective trading day | \n",
    "| **GIS_Close** | Price of General Mills stock at closing time | \n",
    "| **GIS_Volume** | Number of General Mills stocks traded on respective day | \n",
    "| **PEP_Open** | Price of PepsiCo stock at the beginning of the trading day | \n",
    "| **PEP_High** | Highest price of PepsiCo stock on respective trading day | \n",
    "| **PEP_Low** | Lowest price of PepsiCo stock on respective trading day | \n",
    "| **PEP_Close** | Price of PepsiCo stock at closing time | \n",
    "| **PEP_Volume** | Number of PepsiCo stocks traded on respective day | \n",
    "| **CPB_Open** | Price of Campbell Soup Company stock at the beginning of the trading day | \n",
    "| **CPB_High** | Highest price of Campbell Soup Company stock on respective trading day | \n",
    "| **CPB_Low** | Lowest price of Campbell Soup Company stock on respective trading day | \n",
    "| **CPB_Close** | Price of Campbell Soup Company stock at closing time | \n",
    "| **CPB_Volume** | Number of Campbell Soup Company stocks traded on respective day | \n"
   ]
  },
  {
   "cell_type": "markdown",
   "metadata": {},
   "source": [
    "## Exploratory Data Analysis (EDA)"
   ]
  },
  {
   "cell_type": "code",
   "execution_count": null,
   "metadata": {},
   "outputs": [],
   "source": []
  },
  {
   "cell_type": "code",
   "execution_count": null,
   "metadata": {},
   "outputs": [],
   "source": []
  }
 ],
 "metadata": {
  "kernelspec": {
   "display_name": "Python 3",
   "language": "python",
   "name": "python3"
  },
  "language_info": {
   "codemirror_mode": {
    "name": "ipython",
    "version": 3
   },
   "file_extension": ".py",
   "mimetype": "text/x-python",
   "name": "python",
   "nbconvert_exporter": "python",
   "pygments_lexer": "ipython3",
   "version": "3.6.7"
  }
 },
 "nbformat": 4,
 "nbformat_minor": 4
}
