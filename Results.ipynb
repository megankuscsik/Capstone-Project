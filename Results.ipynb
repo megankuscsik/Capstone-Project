{
 "cells": [
  {
   "cell_type": "markdown",
   "metadata": {},
   "source": [
    "# Results to Capstone Questions\n",
    "**1. What relationship (if any) exists between climate factors and commodity stocks?**\n",
    "- strongest relationship exists with raw Close feature and calculated cum_return feature for all three commoditity stocks (CORN, WEAT, CANE)\n",
    "    - Cum_return features:\n",
    "        - negative correlation\n",
    "        - moderate correlation \n",
    "        - negative covariance\n",
    "        - reject null in Granger Causality\n",
    "        \n",
    "     - Close features:\n",
    "        - negative correlation\n",
    "        - moderate correlation\n",
    "        - negative covariance\n",
    "        - reject null in Granger Causality\n",
    "        \n",
    "**2. What relationship (if any) exists between climate factors and company stocks?**\n",
    "- strongest relationship exists with raw Close feature for all 5 commodity stocks\n",
    "    - Close features:\n",
    "        - positive correlation\n",
    "        - moderate correlaton\n",
    "     \n",
    "     - cum_return features (CPB is not involved--only 4 of commodity stocks)\n",
    "         - positive correlation\n",
    "         - moderate correlation\n",
    "\n",
    "**3. What relationship (if any) exists between commodity stocks and company stocks?**\n",
    "MK note: looking for relationship with CORN & company stock, WEAT & company stock, and/or CANE & company stock\n",
    "- **CORN_Close**\n",
    "    - strongest relationship with raw close and caluclated profit/cum_return feature (all 5 companies)\n",
    "    - Close feature\n",
    "        - negative correlation\n",
    "        - moderate to very high correlation\n",
    "    \n",
    "    - profit\n",
    "        - negative covariance\n",
    "        \n",
    "    - Cum_return\n",
    "        - negative covariance\n",
    "    \n",
    "- **WEAT_Close**\n",
    "    - strongest relationship with raw close and caluclated profit/cum_return feature (all 5 companies)\n",
    "    - Close feature\n",
    "        - negative covariance\n",
    "     \n",
    "    - cum_return\n",
    "        - negative covariance\n",
    "    \n",
    "    - profit\n",
    "        - negative covariance\n",
    "        \n",
    "- **CANE_Close**\n",
    " - strongest relationship with raw close and caluclated profit/cum_return feature (all 5 companies)\n",
    "    - Close feature\n",
    "        - negative covariance\n",
    "     \n",
    "    - cum_return\n",
    "        - negative covariance\n",
    "    \n",
    "    - profit\n",
    "        - negative covariance"
   ]
  },
  {
   "cell_type": "markdown",
   "metadata": {},
   "source": [
    "**4.Does any volatility present in the data exhibit a relationship with Temp_Anamoly?**"
   ]
  },
  {
   "cell_type": "code",
   "execution_count": null,
   "metadata": {},
   "outputs": [],
   "source": []
  }
 ],
 "metadata": {
  "kernelspec": {
   "display_name": "Python 3",
   "language": "python",
   "name": "python3"
  },
  "language_info": {
   "codemirror_mode": {
    "name": "ipython",
    "version": 3
   },
   "file_extension": ".py",
   "mimetype": "text/x-python",
   "name": "python",
   "nbconvert_exporter": "python",
   "pygments_lexer": "ipython3",
   "version": "3.6.7"
  }
 },
 "nbformat": 4,
 "nbformat_minor": 4
}
