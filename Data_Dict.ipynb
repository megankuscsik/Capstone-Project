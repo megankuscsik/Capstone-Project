{
 "cells": [
  {
   "cell_type": "markdown",
   "metadata": {},
   "source": [
    "### **Data Dictionary**\n",
    "| Column Name  | Contents |\n",
    "| ------------- | ------------- |\n",
    "| **Date** | Date (mm/dd/yyyy) of data collection |\n",
    "| **Month** | Month of data collection | \n",
    "| **Temp_Anamoly** | Temperature Anomalies: difference from the mean/expected value | \n",
    "| **Avg_Temp_F** | Average daily temperature in (degrees F) | \n",
    "| **Avg_Precip_In** | Average daily precipitation (inches) | \n",
    "| **CORN_Open** | Price of CORN stock at the beginning of the trading day | \n",
    "| **CORN_High** | Highest price of CORN stock on respective trading day | \n",
    "| **CORN_Low** | Lowest price of CORN stock on respective trading day | \n",
    "| **CORN_Close** | Price of CORN stock at closing time | \n",
    "| **CORN_Volume** | Number of CORN stocks traded on respective day| \n",
    "| **WEAT_Open** | Price of WEAT stock at the beginning of the trading day | \n",
    "| **WEAT_High** | Highest price of WEAT stock on respective trading day | \n",
    "| **WEAT_Low** | Lowest price of WEAT stock on respective trading day | \n",
    "| **WEAT_Close** | Price of WEAT stock at closing time | \n",
    "| **WEAT_Volume** | Number of WEAT stocks traded on respective day | \n",
    "| **CANE_Open** | Price of CANE stock at the beginning of the trading day | \n",
    "| **CANE_High** | Highest price of CANE stock on respective trading day | \n",
    "| **CANE_Low** | Lowest price of CANE stock on respective trading day | \n",
    "| **CANE_Close** | Price of CANE stock at closing time | \n",
    "| **CANE_Volume** | Number of CANE stocks traded on respective day | \n",
    "| **HSY_Open** | Price of The Hershey Company stock at the beginning of the trading day | \n",
    "| **HSY_High** | Highest price of The Hershey Company stock on respective trading day | \n",
    "| **HSY_Low** | Lowest price of The Hershey Company stock on respective trading day | \n",
    "| **HSY_Close** | Price of The Hershey Company stock at closing time | \n",
    "| **HSY_Volume** | Number of The Hershey Company stocks traded on respective day | \n",
    "| **SJM_Open** | Price of The J.M. Smucker Company stock at the beginning of the trading day | \n",
    "| **SJM_High** | Highest price of The J.M. Smucker Company stock on respective trading day | \n",
    "| **SJM_Low** | Lowest price of The J.M. Smucker Company stock on respective trading day | \n",
    "| **SJM_Close** | Price of The J.M. Smucker Company stock at closing time | \n",
    "| **SJM_Volume** | Number of The J.M. Smucker Company stocks traded on respective day | \n",
    "| **GIS_Open** | Price of General Mills stock at the beginning of the trading day | \n",
    "| **GIS_High** | Highest price of General Mills stock on respective trading day | \n",
    "| **GIS_Low** | Lowest price of General Mills stock on respective trading day | \n",
    "| **GIS_Close** | Price of General Mills stock at closing time | \n",
    "| **GIS_Volume** | Number of General Mills stocks traded on respective day | \n",
    "| **PEP_Open** | Price of PepsiCo stock at the beginning of the trading day | \n",
    "| **PEP_High** | Highest price of PepsiCo stock on respective trading day | \n",
    "| **PEP_Low** | Lowest price of PepsiCo stock on respective trading day | \n",
    "| **PEP_Close** | Price of PepsiCo stock at closing time | \n",
    "| **PEP_Volume** | Number of PepsiCo stocks traded on respective day | \n",
    "| **CPB_Open** | Price of Campbell Soup Company stock at the beginning of the trading day | \n",
    "| **CPB_High** | Highest price of Campbell Soup Company stock on respective trading day | \n",
    "| **CPB_Low** | Lowest price of Campbell Soup Company stock on respective trading day | \n",
    "| **CPB_Close** | Price of Campbell Soup Company stock at closing time | \n",
    "| **CPB_Volume** | Number of Campbell Soup Company stocks traded on respective day | \n",
    "\n",
    "\n",
    "\n",
    "\n",
    "\n"
   ]
  },
  {
   "cell_type": "markdown",
   "metadata": {},
   "source": [
    "### **Data Source**\n",
    "\n",
    "Climate Data: taken from [National Centers for Environmental Information (NOAA)]( https://www.ncdc.noaa.gov/cag/national/time-series/110/pcp/all/3/2010-2019?base_prd=true&begbaseyear=1901&endbaseyear=2000)\n",
    "    \n",
    "Stock Data: taken from Yahoo Finance"
   ]
  },
  {
   "cell_type": "code",
   "execution_count": null,
   "metadata": {},
   "outputs": [],
   "source": []
  }
 ],
 "metadata": {
  "kernelspec": {
   "display_name": "Python 3",
   "language": "python",
   "name": "python3"
  },
  "language_info": {
   "codemirror_mode": {
    "name": "ipython",
    "version": 3
   },
   "file_extension": ".py",
   "mimetype": "text/x-python",
   "name": "python",
   "nbconvert_exporter": "python",
   "pygments_lexer": "ipython3",
   "version": "3.6.7"
  }
 },
 "nbformat": 4,
 "nbformat_minor": 4
}
